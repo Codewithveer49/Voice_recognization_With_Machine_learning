{
 "cells": [
  {
   "cell_type": "markdown",
   "id": "4829d38f",
   "metadata": {},
   "source": [
    "### Major install"
   ]
  },
  {
   "cell_type": "code",
   "execution_count": 1,
   "id": "568ec995",
   "metadata": {},
   "outputs": [
    {
     "name": "stdout",
     "output_type": "stream",
     "text": [
      "Note: you may need to restart the kernel to use updated packages.\n"
     ]
    },
    {
     "name": "stderr",
     "output_type": "stream",
     "text": [
      "\n",
      "[notice] A new release of pip is available: 24.3.1 -> 25.1.1\n",
      "[notice] To update, run: python.exe -m pip install --upgrade pip\n"
     ]
    }
   ],
   "source": [
    "%pip install librosa soundfile numpy scikit-learn pyttsx3 --quiet"
   ]
  },
  {
   "cell_type": "markdown",
   "id": "804c2e0c",
   "metadata": {},
   "source": [
    "## Pulse code Modulation "
   ]
  },
  {
   "cell_type": "code",
   "execution_count": 2,
   "id": "2da3791d",
   "metadata": {},
   "outputs": [],
   "source": [
    "import librosa\n",
    "import numpy as np\n",
    "import os\n",
    "import pyttsx3\n",
    "from sklearn.model_selection import train_test_split\n",
    "from sklearn.svm import SVC\n",
    "from sklearn.metrics import classification_report"
   ]
  },
  {
   "cell_type": "markdown",
   "id": "4d3aa64f",
   "metadata": {},
   "source": [
    "### GEnerate synthetic Dataset"
   ]
  },
  {
   "cell_type": "code",
   "execution_count": 3,
   "id": "958c8ef9",
   "metadata": {},
   "outputs": [],
   "source": [
    "def generate_speech(text, filename, voice_id):\n",
    "    engine = pyttsx3.init()\n",
    "    engine.setProperty('voice', voice_id) ## saved the files \n",
    "    engine.setProperty('rate', 150)\n",
    "    engine.save_to_file(text, filename)\n",
    "    engine.runAndWait()\n",
    "\n",
    "os.makedirs(\"voices\", exist_ok=True)\n",
    "\n",
    "engine = pyttsx3.init()\n",
    "voices = engine.getProperty('voices') ## asking pyttsx3 to get all voices it has\n",
    "voice_1 = voices[0].id\n",
    "voice_2 = voices[1].id if len(voices) > 1 else voices[0].id  # fallback\n",
    "\n",
    "generate_speech(\"Hello, this is speaker one. I like machine learning.\", \"voices/speaker1.wav\", voice_1)\n",
    "generate_speech(\"Hello, this is speaker two. I prefer data science.\", \"voices/speaker2.wav\", voice_2)\n"
   ]
  },
  {
   "cell_type": "markdown",
   "id": "14ce5686",
   "metadata": {},
   "source": [
    "### Extraction(features) "
   ]
  },
  {
   "cell_type": "code",
   "execution_count": null,
   "id": "89d99cff",
   "metadata": {},
   "outputs": [
    {
     "name": "stdout",
     "output_type": "stream",
     "text": [
      "Features shape: (280, 13)\n"
     ]
    }
   ],
   "source": [
    "# Loading files and extracting features(mfccs)\n",
    "def extract_features(file_path):\n",
    "    y, sr = librosa.load(file_path, sr=16000) # loads audio file into memory\n",
    "    y_trimmed, _ = librosa.effects.trim(y)\n",
    "    mfccs = librosa.feature.mfcc(y=y_trimmed, sr=sr, n_mfcc=13)\n",
    "    return mfccs.T  # Shape: (time, 13)\n",
    "\n",
    "X, y = [], []\n",
    "\n",
    "for label, file in enumerate([\"voices/speaker1.wav\", \"voices/speaker2.wav\"]):\n",
    "    mfccs = extract_features(file)\n",
    "    for mfcc in mfccs:\n",
    "        X.append(mfcc)\n",
    "        y.append(label)\n",
    "\n",
    "X = np.array(X)\n",
    "y = np.array(y) # Is also used whether who spoke , 1 or 0;\n",
    "print(\"Features shape:\", X.shape)\n"
   ]
  },
  {
   "cell_type": "code",
   "execution_count": 5,
   "id": "7851f4f5",
   "metadata": {},
   "outputs": [
    {
     "name": "stdout",
     "output_type": "stream",
     "text": [
      "              precision    recall  f1-score   support\n",
      "\n",
      "           0       0.96      0.96      0.96        28\n",
      "           1       0.96      0.96      0.96        28\n",
      "\n",
      "    accuracy                           0.96        56\n",
      "   macro avg       0.96      0.96      0.96        56\n",
      "weighted avg       0.96      0.96      0.96        56\n",
      "\n"
     ]
    }
   ],
   "source": [
    "X_train, X_test, y_train, y_test = train_test_split(X, y, test_size=0.2, random_state=42)\n",
    "clf = SVC(kernel=\"linear\")\n",
    "clf.fit(X_train, y_train)\n",
    "\n",
    "y_pred = clf.predict(X_test)\n",
    "print(classification_report(y_test, y_pred))\n"
   ]
  },
  {
   "cell_type": "code",
   "execution_count": 6,
   "id": "410829cf",
   "metadata": {},
   "outputs": [
    {
     "name": "stdout",
     "output_type": "stream",
     "text": [
      "Predicted speaker: Speaker 1\n"
     ]
    }
   ],
   "source": [
    "generate_speech(\"This is a test phrase from speaker one.\", \"voices/test_speaker1.wav\", voice_1)\n",
    "\n",
    "test_mfccs = extract_features(\"voices/test_speaker1.wav\")\n",
    "\n",
    "predictions = clf.predict(test_mfccs)\n",
    "predicted_label = np.bincount(predictions).argmax()\n",
    "print(f\"Predicted speaker: {'Speaker 1' if predicted_label == 0 else 'Speaker 2'}\")\n"
   ]
  },
  {
   "cell_type": "code",
   "execution_count": 8,
   "id": "900481fb",
   "metadata": {},
   "outputs": [],
   "source": [
    "def speak(text, voice_id):\n",
    "    engine = pyttsx3.init()\n",
    "    engine.setProperty('voice', voice_id)\n",
    "    engine.setProperty('rate', 150)\n",
    "    engine.say(text)\n",
    "    engine.runAndWait() \n",
    "speak(\"How are you buddy , Whats going on ?\",voice_2)\n",
    "speak(\"I'm fine what about you\", voice_1)\n"
   ]
  }
 ],
 "metadata": {
  "kernelspec": {
   "display_name": "Python 3",
   "language": "python",
   "name": "python3"
  },
  "language_info": {
   "codemirror_mode": {
    "name": "ipython",
    "version": 3
   },
   "file_extension": ".py",
   "mimetype": "text/x-python",
   "name": "python",
   "nbconvert_exporter": "python",
   "pygments_lexer": "ipython3",
   "version": "3.13.2"
  }
 },
 "nbformat": 4,
 "nbformat_minor": 5
}
